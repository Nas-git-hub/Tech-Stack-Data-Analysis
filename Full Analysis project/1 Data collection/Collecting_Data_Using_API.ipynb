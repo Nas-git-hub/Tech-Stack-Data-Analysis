{
 "cells": [
  {
   "cell_type": "code",
   "execution_count": 1,
   "id": "2ad64f65",
   "metadata": {},
   "outputs": [],
   "source": [
    "import requests \n",
    "import pandas as pd"
   ]
  },
  {
   "cell_type": "code",
   "execution_count": 2,
   "id": "430cbc72",
   "metadata": {},
   "outputs": [],
   "source": [
    "api_url = \"http://api.open-notify.org/astros.json\""
   ]
  },
  {
   "cell_type": "code",
   "execution_count": 5,
   "id": "d7b1032b",
   "metadata": {},
   "outputs": [],
   "source": [
    "response = requests.get(api_url) "
   ]
  },
  {
   "cell_type": "code",
   "execution_count": 6,
   "id": "0afb09e8",
   "metadata": {},
   "outputs": [],
   "source": [
    "if response.ok:             # if all is well() no errors, no network timeouts)\n",
    "    data = response.json()\n"
   ]
  },
  {
   "cell_type": "code",
   "execution_count": 7,
   "id": "b533c429",
   "metadata": {},
   "outputs": [
    {
     "name": "stdout",
     "output_type": "stream",
     "text": [
      "{'people': [{'name': 'Sergey Prokopyev', 'craft': 'ISS'}, {'name': 'Dmitry Petelin', 'craft': 'ISS'}, {'name': 'Frank Rubio', 'craft': 'ISS'}, {'name': 'Jing Haiping', 'craft': 'Tiangong'}, {'name': 'Gui Haichow', 'craft': 'Tiangong'}, {'name': 'Zhu Yangzhu', 'craft': 'Tiangong'}, {'name': 'Jasmin Moghbeli', 'craft': 'ISS'}, {'name': 'Andreas Mogensen', 'craft': 'ISS'}, {'name': 'Satoshi Furukawa', 'craft': 'ISS'}, {'name': 'Konstantin Borisov', 'craft': 'ISS'}, {'name': 'Oleg Kononenko', 'craft': 'ISS'}, {'name': 'Nikolai Chub', 'craft': 'ISS'}, {'name': \"Loral O'Hara\", 'craft': 'ISS'}], 'number': 13, 'message': 'success'}\n"
     ]
    }
   ],
   "source": [
    "print(data) "
   ]
  },
  {
   "cell_type": "code",
   "execution_count": 8,
   "id": "73e6d43f",
   "metadata": {},
   "outputs": [
    {
     "name": "stdout",
     "output_type": "stream",
     "text": [
      "13\n"
     ]
    }
   ],
   "source": [
    "print(data.get('number'))"
   ]
  },
  {
   "cell_type": "code",
   "execution_count": 9,
   "id": "82dac99e",
   "metadata": {},
   "outputs": [
    {
     "name": "stdout",
     "output_type": "stream",
     "text": [
      "There are 13 astronauts on ISS\n",
      "And their names are :\n",
      "Sergey Prokopyev\n",
      "Dmitry Petelin\n",
      "Frank Rubio\n",
      "Jing Haiping\n",
      "Gui Haichow\n",
      "Zhu Yangzhu\n",
      "Jasmin Moghbeli\n",
      "Andreas Mogensen\n",
      "Satoshi Furukawa\n",
      "Konstantin Borisov\n",
      "Oleg Kononenko\n",
      "Nikolai Chub\n",
      "Loral O'Hara\n"
     ]
    }
   ],
   "source": [
    "astronauts = data.get('people')\n",
    "print(\"There are {} astronauts on ISS\".format(len(astronauts)))\n",
    "print(\"And their names are :\")\n",
    "for astronaut in astronauts:\n",
    "    print(astronaut.get('name'))"
   ]
  },
  {
   "cell_type": "code",
   "execution_count": null,
   "id": "7cec479f",
   "metadata": {},
   "outputs": [],
   "source": []
  }
 ],
 "metadata": {
  "kernelspec": {
   "display_name": "Python 3 (ipykernel)",
   "language": "python",
   "name": "python3"
  },
  "language_info": {
   "codemirror_mode": {
    "name": "ipython",
    "version": 3
   },
   "file_extension": ".py",
   "mimetype": "text/x-python",
   "name": "python",
   "nbconvert_exporter": "python",
   "pygments_lexer": "ipython3",
   "version": "3.10.6"
  }
 },
 "nbformat": 4,
 "nbformat_minor": 5
}

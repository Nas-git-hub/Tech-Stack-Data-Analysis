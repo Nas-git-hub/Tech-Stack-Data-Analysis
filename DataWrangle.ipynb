{
 "cells": [
  {
   "cell_type": "code",
   "execution_count": 1,
   "id": "ebd8c8b7",
   "metadata": {},
   "outputs": [],
   "source": [
    "import pandas as pd\n",
    "import numpy as np "
   ]
  },
  {
   "cell_type": "code",
   "execution_count": 2,
   "id": "275ce849",
   "metadata": {},
   "outputs": [],
   "source": [
    "df = pd.read_csv(\"https://cf-courses-data.s3.us.cloud-object-storage.appdomain.cloud/IBM-DA0321EN-SkillsNetwork/LargeData/m1_survey_data.csv\")"
   ]
  },
  {
   "cell_type": "code",
   "execution_count": 5,
   "id": "2419fcdf",
   "metadata": {},
   "outputs": [],
   "source": [
    "df.to_csv('raw_survey_data.csv')"
   ]
  },
  {
   "cell_type": "code",
   "execution_count": 3,
   "id": "81185c62",
   "metadata": {},
   "outputs": [
    {
     "name": "stdout",
     "output_type": "stream",
     "text": [
      "Duplicated Rows are  154\n"
     ]
    }
   ],
   "source": [
    "dRows = df.duplicated().sum()\n",
    "print(\"Duplicated Rows are \", dRows)"
   ]
  },
  {
   "cell_type": "code",
   "execution_count": 7,
   "id": "8256493f",
   "metadata": {},
   "outputs": [],
   "source": [
    "newdf = df.drop_duplicates()"
   ]
  },
  {
   "cell_type": "code",
   "execution_count": 8,
   "id": "ea1f5106",
   "metadata": {},
   "outputs": [
    {
     "name": "stdout",
     "output_type": "stream",
     "text": [
      "Duplicated Rows are  0\n"
     ]
    }
   ],
   "source": [
    "droped = newdf.duplicated().sum()\n",
    "print(\"Duplicated Rows are \", droped)"
   ]
  },
  {
   "cell_type": "code",
   "execution_count": 9,
   "id": "8ab6ed0e",
   "metadata": {},
   "outputs": [
    {
     "data": {
      "text/plain": [
       "Respondent        0\n",
       "MainBranch        0\n",
       "Hobbyist          0\n",
       "OpenSourcer       0\n",
       "OpenSource       81\n",
       "               ... \n",
       "Sexuality       542\n",
       "Ethnicity       675\n",
       "Dependents      140\n",
       "SurveyLength     19\n",
       "SurveyEase       14\n",
       "Length: 85, dtype: int64"
      ]
     },
     "execution_count": 9,
     "metadata": {},
     "output_type": "execute_result"
    }
   ],
   "source": [
    "newdf.isnull().sum()"
   ]
  },
  {
   "cell_type": "code",
   "execution_count": 10,
   "id": "113b831b",
   "metadata": {},
   "outputs": [
    {
     "data": {
      "text/plain": [
       "32"
      ]
     },
     "execution_count": 10,
     "metadata": {},
     "output_type": "execute_result"
    }
   ],
   "source": [
    "newdf['WorkLoc'].isnull().sum()"
   ]
  },
  {
   "cell_type": "code",
   "execution_count": 11,
   "id": "3039268a",
   "metadata": {},
   "outputs": [
    {
     "data": {
      "text/plain": [
       "Office                                            6806\n",
       "Home                                              3589\n",
       "Other place, such as a coworking space or cafe     971\n",
       "Name: WorkLoc, dtype: int64"
      ]
     },
     "execution_count": 11,
     "metadata": {},
     "output_type": "execute_result"
    }
   ],
   "source": [
    "newdf['WorkLoc'].value_counts()"
   ]
  },
  {
   "cell_type": "code",
   "execution_count": 12,
   "id": "1ddf45e8",
   "metadata": {},
   "outputs": [
    {
     "data": {
      "text/plain": [
       "0    Office\n",
       "Name: WorkLoc, dtype: object"
      ]
     },
     "execution_count": 12,
     "metadata": {},
     "output_type": "execute_result"
    }
   ],
   "source": [
    "newdf['WorkLoc'].mode()"
   ]
  },
  {
   "cell_type": "code",
   "execution_count": 13,
   "id": "dace902b",
   "metadata": {},
   "outputs": [
    {
     "data": {
      "text/plain": [
       "0                                                  Home\n",
       "1                                                Office\n",
       "2                                                  Home\n",
       "3                                                  Home\n",
       "4        Other place, such as a coworking space or cafe\n",
       "                              ...                      \n",
       "11547                                              Home\n",
       "11548                                              Home\n",
       "11549                                            Office\n",
       "11550                                              Home\n",
       "11551                                            Office\n",
       "Name: WorkLoc, Length: 11398, dtype: object"
      ]
     },
     "execution_count": 13,
     "metadata": {},
     "output_type": "execute_result"
    }
   ],
   "source": [
    "newdf['WorkLoc'].fillna('Office')"
   ]
  },
  {
   "cell_type": "code",
   "execution_count": 14,
   "id": "c4ec073e",
   "metadata": {},
   "outputs": [
    {
     "data": {
      "text/plain": [
       "array(['Yearly', 'Monthly', 'Weekly', nan], dtype=object)"
      ]
     },
     "execution_count": 14,
     "metadata": {},
     "output_type": "execute_result"
    }
   ],
   "source": [
    "newdf['CompFreq'].unique()"
   ]
  },
  {
   "cell_type": "code",
   "execution_count": 15,
   "id": "39f9151b",
   "metadata": {},
   "outputs": [
    {
     "data": {
      "text/plain": [
       "array([ 61000., 138000.,  90000., ...,  22730., 552000.,  74400.])"
      ]
     },
     "execution_count": 15,
     "metadata": {},
     "output_type": "execute_result"
    }
   ],
   "source": [
    "newdf['CompTotal'].unique()"
   ]
  },
  {
   "cell_type": "code",
   "execution_count": 16,
   "id": "178c2abb",
   "metadata": {},
   "outputs": [],
   "source": [
    "import numpy as np "
   ]
  },
  {
   "cell_type": "code",
   "execution_count": 17,
   "id": "ef5f089e",
   "metadata": {},
   "outputs": [
    {
     "name": "stderr",
     "output_type": "stream",
     "text": [
      "C:\\Users\\User\\AppData\\Local\\Temp\\ipykernel_16856\\1070211155.py:3: SettingWithCopyWarning: \n",
      "A value is trying to be set on a copy of a slice from a DataFrame.\n",
      "Try using .loc[row_indexer,col_indexer] = value instead\n",
      "\n",
      "See the caveats in the documentation: https://pandas.pydata.org/pandas-docs/stable/user_guide/indexing.html#returning-a-view-versus-a-copy\n",
      "  newdf['NormalizedAnnualCompensation'] = np.select(conditions, choices, default = newdf['CompTotal'])\n"
     ]
    }
   ],
   "source": [
    "conditions = [newdf['CompFreq'] == 'Monthly', newdf['CompFreq'] == 'Weekly']\n",
    "choices = [newdf['CompTotal'] * 12, newdf['CompTotal'] * 52]\n",
    "newdf['NormalizedAnnualCompensation'] = np.select(conditions, choices, default = newdf['CompTotal'])"
   ]
  },
  {
   "cell_type": "code",
   "execution_count": null,
   "id": "8d7ca4a6",
   "metadata": {},
   "outputs": [],
   "source": [
    "newdf.to_csv('CleanSurveyData.csv')"
   ]
  }
 ],
 "metadata": {
  "kernelspec": {
   "display_name": "Python 3 (ipykernel)",
   "language": "python",
   "name": "python3"
  },
  "language_info": {
   "codemirror_mode": {
    "name": "ipython",
    "version": 3
   },
   "file_extension": ".py",
   "mimetype": "text/x-python",
   "name": "python",
   "nbconvert_exporter": "python",
   "pygments_lexer": "ipython3",
   "version": "3.10.6"
  }
 },
 "nbformat": 4,
 "nbformat_minor": 5
}
